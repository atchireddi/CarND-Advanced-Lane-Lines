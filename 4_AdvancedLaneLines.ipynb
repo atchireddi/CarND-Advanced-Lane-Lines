{
 "cells": [
  {
   "cell_type": "markdown",
   "metadata": {},
   "source": [
    "## Advanced Lane Finding Project\n",
    "\n",
    "The goals / steps of this project are the following:\n",
    "\n",
    "* Compute the camera calibration matrix and distortion coefficients given a set of chessboard images.\n",
    "* Apply a distortion correction to raw images.\n",
    "* Use color transforms, gradients, etc., to create a thresholded binary image.\n",
    "* Apply a perspective transform to rectify binary image (\"birds-eye view\").\n",
    "* Detect lane pixels and fit to find the lane boundary.\n",
    "* Determine the curvature of the lane and vehicle position with respect to center.\n",
    "* Warp the detected lane boundaries back onto the original image.\n",
    "* Output visual display of the lane boundaries and numerical estimation of lane curvature and vehicle position.\n",
    "\n",
    "---"
   ]
  },
  {
   "cell_type": "markdown",
   "metadata": {},
   "source": [
    "# IMPORT PACKAGES"
   ]
  },
  {
   "cell_type": "code",
   "execution_count": 1,
   "metadata": {
    "collapsed": true
   },
   "outputs": [],
   "source": [
    "import numpy as np\n",
    "import cv2\n",
    "import glob\n",
    "import pickle\n",
    "import matplotlib.pyplot as plt\n",
    "import matplotlib.image as mpimg\n",
    "%matplotlib inline"
   ]
  },
  {
   "cell_type": "markdown",
   "metadata": {},
   "source": [
    "#"
   ]
  },
  {
   "cell_type": "markdown",
   "metadata": {},
   "source": [
    "##  CALIBRATE CAMERA"
   ]
  },
  {
   "cell_type": "markdown",
   "metadata": {},
   "source": [
    "### Find Chessboard corners from sample images"
   ]
  },
  {
   "cell_type": "code",
   "execution_count": 2,
   "metadata": {
    "collapsed": false
   },
   "outputs": [],
   "source": [
    "\n",
    "# prepare object points, like (0,0,0), (1,0,0), (2,0,0) ....,(6,5,0)\n",
    "objp = np.zeros((6*9,3), np.float32)\n",
    "objp[:,:2] = np.mgrid[0:9, 0:6].T.reshape(-1,2)\n",
    "\n",
    "# Arrays to store object points and image points from all the images.\n",
    "objpoints = [] # 3d points in real world space\n",
    "imgpoints = [] # 2d points in image plane.\n",
    "\n",
    "# Make a list of calibration images\n",
    "images = glob.glob('camera_cal/calibration*.jpg')\n",
    "\n",
    "# Step through the list and search for chessboard corners\n",
    "for image in images:\n",
    "    \n",
    "    # Read Image\n",
    "    img = mpimg.imread(image)\n",
    "    \n",
    "    # Convert to Gray Scale\n",
    "    gray = cv2.cvtColor(img, cv2.COLOR_RGB2GRAY)\n",
    "\n",
    "    # Find the chessboard corners\n",
    "    ret, corners = cv2.findChessboardCorners(gray, (9,6), None)\n",
    "\n",
    "    # If found, add object points, image points\n",
    "    if ret == True:\n",
    "        objpoints.append(objp)\n",
    "        imgpoints.append(corners)\n",
    "        "
   ]
  },
  {
   "cell_type": "markdown",
   "metadata": {},
   "source": [
    "### Compute and Save Camera Matrix, Distortion"
   ]
  },
  {
   "cell_type": "code",
   "execution_count": 3,
   "metadata": {
    "collapsed": false
   },
   "outputs": [],
   "source": [
    "# Do camera calibration given object points and image points\n",
    "ret, mtx, dist, rvecs, tvecs = cv2.calibrateCamera(objpoints, imgpoints, img.T.shape[1:],None, None)\n",
    "\n",
    "# Save the camera calibration result for later use\n",
    "# Ignore rvecs / tvecs for now\n",
    "dist_pickle = {}\n",
    "dist_pickle[\"mtx\"] = mtx\n",
    "dist_pickle[\"dist\"] = dist\n",
    "pickle.dump( dist_pickle, open( \"mtx_dist_pickle.p\", \"wb\" ) )\n"
   ]
  },
  {
   "cell_type": "markdown",
   "metadata": {},
   "source": [
    "## LANE FINDING PIPELINE"
   ]
  },
  {
   "cell_type": "markdown",
   "metadata": {},
   "source": [
    "#### UNDISTORT IMAGE"
   ]
  },
  {
   "cell_type": "code",
   "execution_count": 4,
   "metadata": {
    "collapsed": false
   },
   "outputs": [],
   "source": [
    "def undistort(img):\n",
    "    # pick camera calibartion and distortion matrices from global variables\n",
    "    global mtx, dist, cnt\n",
    "    \n",
    "    # undistort image\n",
    "    undistort_img = cv2.undistort(img, mtx, dist, None, mtx)\n",
    "    \n",
    "    # return undistorted image\n",
    "    return(undistort_img)"
   ]
  },
  {
   "cell_type": "markdown",
   "metadata": {},
   "source": [
    "#### PRESPECTIVE TRANSFORM"
   ]
  },
  {
   "cell_type": "code",
   "execution_count": 5,
   "metadata": {
    "collapsed": false
   },
   "outputs": [],
   "source": [
    "\n",
    "# generate perspective transform matrix\n",
    "def gen_transform_matrix():\n",
    "    src = np.float32(\n",
    "             [[582, 455],\n",
    "             [700, 455],\n",
    "             [1150, 720],\n",
    "             [150, 720]])\n",
    "\n",
    "    dst = np.float32(\n",
    "             [[300, 0],\n",
    "             [1000, 0],\n",
    "             [1000, 720],\n",
    "             [300, 720]])\n",
    "\n",
    "    # perspective transform\n",
    "    M = cv2.getPerspectiveTransform(src,dst)\n",
    "\n",
    "    # Inverse perspective transform\n",
    "    Minv = cv2.getPerspectiveTransform(dst,src)\n",
    "\n",
    "    return(M, Minv)\n",
    "\n",
    "M, Minv = gen_transform_matrix()\n",
    "\n",
    "# warp image by perspective transform\n",
    "def warp(img,M):\n",
    "    \n",
    "    # perspective transform image\n",
    "    if len(img.shape) > 2:\n",
    "        warped = cv2.warpPerspective(img, M, img.shape[:2][::-1], flags=cv2.INTER_LINEAR)\n",
    "    else:\n",
    "        warped = cv2.warpPerspective(img, M, img.shape[::-1], flags=cv2.INTER_LINEAR)\n",
    "    \n",
    "    return(warped)\n"
   ]
  },
  {
   "cell_type": "code",
   "execution_count": null,
   "metadata": {
    "collapsed": true
   },
   "outputs": [],
   "source": []
  },
  {
   "cell_type": "markdown",
   "metadata": {},
   "source": [
    "#### THRESHOLDS"
   ]
  },
  {
   "cell_type": "code",
   "execution_count": 6,
   "metadata": {
    "collapsed": true
   },
   "outputs": [],
   "source": [
    "# Define a function that applies Sobel x or y, \n",
    "# then takes an absolute value and applies a threshold.\n",
    "def abs_sobel_thresh(gray_img, orient='x', sobel_kernel=3, thresh=(0,255)):\n",
    "    \n",
    "        # Take derivative in x or y give orient = 'x' or 'y'\n",
    "    if orient=='x':\n",
    "        sobel_drv = cv2.Sobel(gray_img, cv2.CV_64F, 1, 0, ksize=sobel_kernel)\n",
    "    elif orient=='y':\n",
    "        sobel_drv = cv2.Sobel(gray_img, cv2.CV_64F, 0, 1, ksize=sobel_kernel)\n",
    "    else:\n",
    "        print(\"Invalid Orient, provide orient either x or y\")\n",
    "    \n",
    "    # Take absolute value of the derivative or gradient\n",
    "    abs_sobel_drv = np.absolute(sobel_drv)\n",
    "    \n",
    "    # Scale to 8-bit (0-255) then convert to type=np.uint8\n",
    "    scale_sobel = np.uint8(255*abs_sobel_drv/np.max(abs_sobel_drv))\n",
    "    \n",
    "    # Create a mask of 1's where the scaled gradient magnitude\n",
    "    #     is > thresh_min and < thresh_max\n",
    "    binary_output = np.zeros_like(scale_sobel)\n",
    "    binary_output[ (scale_sobel>thresh[0]) & (scale_sobel<=thresh[1])] = 1 \n",
    "    \n",
    "    return binary_output\n",
    "    \n"
   ]
  },
  {
   "cell_type": "markdown",
   "metadata": {},
   "source": [
    "#### BINARY IMAGE FROM COLOR AND GRADIENT"
   ]
  },
  {
   "cell_type": "code",
   "execution_count": 7,
   "metadata": {
    "collapsed": false
   },
   "outputs": [],
   "source": [
    "\n",
    "def binary_image(img):\n",
    "    \n",
    "    # Convert RGB to HLS,HSV and seperate S-channel from HLS and v-channel from HSV\n",
    "    # s-channel for color and v-channel for grient\n",
    "    # v-channel shows slightly stronger gradient for high contrast background\n",
    "    # color filtered v-channel used to negate noise from interlaced shadows\n",
    "    s_channel = cv2.cvtColor(img, cv2.COLOR_RGB2HLS)[:,:,2]\n",
    "    v_channel = cv2.cvtColor(img, cv2.COLOR_RGB2HSV)[:,:,2]\n",
    "    \n",
    "    \n",
    "    # ***** Color Filtering on S & V Channels ******\n",
    "    #  low-threshold for v-channel is 1.5*(s-channel low-threshold)\n",
    "    \n",
    "    # Color filtered s-channel binary image\n",
    "    binary_s_channel = np.zeros_like(s_channel)\n",
    "    binary_s_channel[ (s_channel > 90) & (s_channel <=255) ] = 1\n",
    "    \n",
    "    # Color filtered v-channel binary image\n",
    "    binary_v_channel = np.zeros_like(v_channel)\n",
    "    binary_v_channel[ (v_channel > 170) & (v_channel <=255) ] = 1\n",
    "    \n",
    "    \n",
    "    # ***** Compute V-Channel Gradient *****\n",
    "    \n",
    "    # Choose a Sobel kernel size\n",
    "    ksize = 7 # Choose a larger odd number to smooth gradient measurements\n",
    "\n",
    "    # Gradient in x-direction ( return binary image)\n",
    "    gradx = abs_sobel_thresh(v_channel, orient='x', sobel_kernel=ksize, thresh=(20, 150))\n",
    "    \n",
    "    # Gradient Direction ( return binary image)\n",
    "    # dir_binary = dir_threshold(v_channel, sobel_kernel=ksize, thresh=(0.75, 1.25))\n",
    "\n",
    "    # ***** Combine Color Filtering and Gradient Filtering *****\n",
    "    combined = np.zeros_like(v_channel)\n",
    "    \n",
    "    #  Gradient direction preserves only line edges while eating the fill,\n",
    "    #  which makes senses as line fill shows orthogonal gradient\n",
    "    # combined[ (((binary_s_channel == 1) & (binary_v_channel == 1)) | (gradx == 1)) & (dir_binary==1)  ] = 255 # gray scale\n",
    "    \n",
    "    # x-gradient adds white lines to  lines from color channels\n",
    "    # s-channel preserves left yellow line, while v-channel filters shadows.\n",
    "    combined[ ((binary_s_channel == 1) & (binary_v_channel == 1)) | ( gradx == 1 ) ] = 1 # gray scale\n",
    "    \n",
    "    # ***** Return Binary Image *****\n",
    "    return(combined)\n"
   ]
  },
  {
   "cell_type": "markdown",
   "metadata": {},
   "source": [
    "#### FINDING LANE LINES"
   ]
  },
  {
   "cell_type": "markdown",
   "metadata": {},
   "source": [
    "#### Apply Mask"
   ]
  },
  {
   "cell_type": "code",
   "execution_count": 8,
   "metadata": {
    "collapsed": true
   },
   "outputs": [],
   "source": [
    "def region_of_interest(img, vertices):\n",
    "    \"\"\"\n",
    "    Applies an image mask.\n",
    "    \n",
    "    Only keeps the region of the image defined by the polygon\n",
    "    formed from `vertices`. The rest of the image is set to black.\n",
    "    \"\"\"\n",
    "    #defining a blank mask to start with\n",
    "    mask = np.zeros_like(img)   \n",
    "    \n",
    "    #defining a 3 channel or 1 channel color to fill the mask with depending on the input image\n",
    "    if len(img.shape) > 2:\n",
    "        channel_count = img.shape[2]  # i.e. 3 or 4 depending on your image\n",
    "        ignore_mask_color = (255,) * channel_count\n",
    "    else:\n",
    "        ignore_mask_color = 255\n",
    "        \n",
    "    #filling pixels inside the polygon defined by \"vertices\" with the fill color    \n",
    "    cv2.fillPoly(mask, vertices, ignore_mask_color)\n",
    "    \n",
    "    #returning the image only where mask pixels are nonzero\n",
    "    masked_image = cv2.bitwise_and(img, mask)\n",
    "    return masked_image\n",
    "\n",
    "\n",
    "# Mask Non-Lane Lines\n",
    "\n",
    "def apply_mask(image):\n",
    "    ## Parameters for region of interest\n",
    "    ## will define trapeziod to filter Lane lines\n",
    "    width  = image.shape[1]   # Image Widht\n",
    "    height = image.shape[0]   # Image height\n",
    "    ll = (0, height)       # Lower Left Vertex\n",
    "    lr = (width, height)      # Lower Right Vertex\n",
    "    tl = (-50+width/2, 80+height/2)      # Top Left Vertex\n",
    "    tr = (50+width/2, 80+height/2)      # Top Right Vertex\n",
    "    vertices = np.array( [[ ll, tl, tr, lr]], dtype=np.int32)\n",
    "\n",
    "    fimage = region_of_interest(image, vertices )\n",
    "    return(fimage)\n",
    "\n",
    "  "
   ]
  },
  {
   "cell_type": "markdown",
   "metadata": {},
   "source": [
    "#### FINDING LANE PIXELS"
   ]
  },
  {
   "cell_type": "code",
   "execution_count": 9,
   "metadata": {
    "collapsed": true
   },
   "outputs": [],
   "source": [
    "\n",
    "def window_mask(width, height, img_ref, center,level):\n",
    "    output = np.zeros_like(img_ref)\n",
    "    output[int(img_ref.shape[0]-(level+1)*height):int(img_ref.shape[0]-level*height),max(0,int(center-width/2)):min(int(center+width/2),img_ref.shape[1])] = 1\n",
    "    return output\n",
    "\n",
    "def find_window_centroids(warped, window_width, window_height, margin, minpix):\n",
    "    \n",
    "    window_centroids = [] # Store the (left,right) window centroid positions per level\n",
    "    window = np.ones(window_width) # Create our window template that we will use for convolutions\n",
    "    \n",
    "    # First find the two starting positions for the left and right lane by using \n",
    "    # np.sum to get the vertical image slice\n",
    "    # and then np.convolve the vertical image slice with the window template \n",
    "    \n",
    "    # Sum quarter bottom of image to get slice, could use a different ratio\n",
    "    l_sum = np.sum(warped[int(3*warped.shape[0]/4):,:int(warped.shape[1]/2)], axis=0)   \n",
    "    l_center = np.argmax(np.convolve(window,l_sum))-window_width/2\n",
    "    r_sum = np.sum(warped[int(3*warped.shape[0]/4):,int(warped.shape[1]/2):], axis=0)\n",
    "    r_center = np.argmax(np.convolve(window,r_sum))-window_width/2+int(warped.shape[1]/2)\n",
    "    \n",
    "    # Add what we found for the first layer\n",
    "    window_centroids.append((l_center,r_center))\n",
    "    \n",
    "    # Go through each layer looking for max pixel locations\n",
    "    for level in range(1,(int)(warped.shape[0]/window_height)):\n",
    "        \n",
    "        # convolve the window into the vertical slice of the image\n",
    "        image_layer = np.sum(warped[int(warped.shape[0]-(level+1)*window_height):int(warped.shape[0]-level*window_height),:], axis=0)\n",
    "        conv_signal = np.convolve(window, image_layer)\n",
    "        \n",
    "        \n",
    "        # Find the best left centroid by using past left center as a reference\n",
    "        # Use window_width/2 as offset because convolution signal reference is \n",
    "        # at right side of window, not center of window\n",
    "        offset = window_width/2\n",
    "        l_min_index = int(max(l_center+offset-margin,0))\n",
    "        l_max_index = int(min(l_center+offset+margin,warped.shape[1]))\n",
    "        if np.sum(conv_signal[l_min_index:l_max_index]) > minpix:   # No Update to centroid if lane not found\n",
    "            l_center = np.argmax(conv_signal[l_min_index:l_max_index])+l_min_index-offset\n",
    "        \n",
    "        # Find the best right centroid by using past right center as a reference\n",
    "        r_min_index = int(max(r_center+offset-margin,0))\n",
    "        r_max_index = int(min(r_center+offset+margin,warped.shape[1])) \n",
    "        if np.sum(conv_signal[r_min_index:r_max_index]) > minpix :   # No update to centriod if lane not found\n",
    "            r_center = np.argmax(conv_signal[r_min_index:r_max_index])+r_min_index-offset\n",
    "        \n",
    "        # Add what we found for that layer\n",
    "        # print(np.sum(conv_signal[l_min_index:l_max_index]), np.sum(conv_signal[r_min_index:r_max_index]))\n",
    "        window_centroids.append((l_center,r_center))\n",
    "\n",
    "    return window_centroids\n",
    "\n"
   ]
  },
  {
   "cell_type": "code",
   "execution_count": 10,
   "metadata": {
    "collapsed": false
   },
   "outputs": [],
   "source": [
    "\n",
    "def sliding_search(warped):\n",
    "\n",
    "    # window settings\n",
    "    window_width = 50 \n",
    "    window_height = 80 # Break image into 9 vertical layers since image height is 720\n",
    "    margin = 100 # How much to slide left and right for searching\n",
    "    minpix = 15000  # Min pixels to be found to update search window centroid\n",
    "\n",
    "    window_centroids = find_window_centroids(warped, window_width, window_height, margin, minpix)\n",
    "\n",
    "    # If we found any window centers\n",
    "    if len(window_centroids) > 0:\n",
    "    \n",
    "        # Points used to draw all the left and right windows\n",
    "        l_points = np.zeros_like(warped)\n",
    "        r_points = np.zeros_like(warped)\n",
    "    \n",
    "        # Go through each level and draw the windows \t\n",
    "        for level in range(0,len(window_centroids)):\n",
    "            \n",
    "            # Window_mask is a function to draw window areas\n",
    "            l_mask = window_mask(window_width,window_height,warped,window_centroids[level][0],level)\n",
    "            r_mask = window_mask(window_width,window_height,warped,window_centroids[level][1],level)\n",
    "            \n",
    "            # Add graphic points from window mask here to total pixels found \n",
    "            l_points[(l_points == 255) | ((l_mask == 1) ) ] = 255\n",
    "            r_points[(r_points == 255) | ((r_mask == 1) ) ] = 255\n",
    "    \n",
    "        # Draw the results\n",
    "        template = np.array(r_points+l_points,np.uint8) # add both left and right window pixels together\n",
    "        zero_channel = np.zeros_like(template) # create a zero color channel\n",
    "        template = np.array(cv2.merge((zero_channel,template,zero_channel)),np.uint8) # make window pixels green\n",
    "        warped[warped==1]=255\n",
    "        warpage = np.array(cv2.merge((warped,warped,warped)),np.uint8) # making the original road pixels 3 color channels\n",
    "        output = cv2.addWeighted(warpage, 1, template, 0.5, 0.0) # overlay the orignal road image with window results\n",
    " \n",
    "    # If no window centers found, just display orginal road image\n",
    "    else:\n",
    "        output = np.array(cv2.merge((warped,warped,warped)),np.uint8)\n",
    "\n",
    "    return(output)\n",
    "\n",
    "# Display the final results\n",
    "#plt.imshow(output)\n",
    "#plt.title('window fitting results')\n",
    "#plt.show()\n"
   ]
  },
  {
   "cell_type": "code",
   "execution_count": 11,
   "metadata": {
    "collapsed": false
   },
   "outputs": [],
   "source": [
    "\n",
    "\n",
    "\n",
    "def adjust_lane_fit(warped,lane_fit):\n",
    "    \n",
    "    new_lane_fit =()  # new polynomial fit, 0:left lane, 1:right lane\n",
    "    nonzero = warped.nonzero()\n",
    "    nonzeroy = np.array(nonzero[0])\n",
    "    nonzerox = np.array(nonzero[1])\n",
    "    margin = 100\n",
    "    not_enough_points = 0  # check for enough points in search zone\n",
    "                           # would trigger exhaustive lane search\n",
    "    \n",
    "    for _fit in lane_fit:\n",
    "        \n",
    "        lane_inds = ((nonzerox > (_fit[0]*(nonzeroy**2) + _fit[1]*nonzeroy + _fit[2] - margin)) & (nonzerox < (_fit[0]*(nonzeroy**2) + _fit[1]*nonzeroy + _fit[2] + margin))) \n",
    "        \n",
    "        # print(lane_inds.shape)\n",
    "        \n",
    "        # check for enough indices\n",
    "        if len(lane_inds) < 100:\n",
    "            not_enough_points = 1\n",
    "        \n",
    "        # Again, extract left and right line pixel positions\n",
    "        x = nonzerox[lane_inds]\n",
    "        y = nonzeroy[lane_inds] \n",
    "        \n",
    "        # Fit a second order polynomial to each\n",
    "        fit = np.polyfit(y, x, 2)\n",
    "        \n",
    "        new_lane_fit = new_lane_fit + (fit,)\n",
    "        \n",
    "    # find lane fit from exhaustive search, when not enough points\n",
    "    #  found with adaptive lane line search\n",
    "    if not_enough_points:\n",
    "        print(\"===== Exhaustive Search Triggered ====\")\n",
    "        new_lane_fit = get_lane_fit(warped)\n",
    "    \n",
    "    return(new_lane_fit)\n",
    "\n",
    "\n",
    "def get_lane_fit(warped):\n",
    "    \n",
    "    # window settings\n",
    "    window_width = 50 \n",
    "    window_height = 80 # Break image into 9 vertical layers since image height is 720\n",
    "    margin = 100       # How much to slide left and right for searching\n",
    "    minpix = 15000     # Min pixels to be found to update search window centroid\n",
    "    lane_fit  = []\n",
    "    \n",
    "    # \n",
    "    window_centroids = find_window_centroids(warped, window_width, window_height, margin, minpix)\n",
    "\n",
    "    l_points = []\n",
    "    r_points = []\n",
    "    \n",
    "    # Go through each level and draw the windows \t\n",
    "    for level in range(0,len(window_centroids)):\n",
    "            \n",
    "        # collate window centriod points\n",
    "        l_points.append(window_centroids[level][0])\n",
    "        r_points.append(window_centroids[level][1])\n",
    "    \n",
    "    # Lane pixels with in windows\n",
    "    y  = range((int(window_height/2)),warped.shape[0],window_height)[::-1]\n",
    "\n",
    "               \n",
    "    lane_fit = (\n",
    "                np.polyfit(y, l_points, 2),\n",
    "                np.polyfit(y, r_points, 2)\n",
    "                )\n",
    "    \n",
    "    return(lane_fit)\n",
    "\n",
    "\n",
    "\n",
    "def _draw_lane(warped, lane_fit):\n",
    "    # Takes in binary image and lane_fit\n",
    "    # return color image with green lane marking\n",
    "    \n",
    "    left  = lane_fit[0]  # left  lane coeffs\n",
    "    right = lane_fit[1]  # right lane coeffs\n",
    "         \n",
    "    lane_mask = np.zeros_like(warped)\n",
    "    lane_mask1 = np.zeros_like(warped)\n",
    "    \n",
    "    ycord = np.arange(0,warped.shape[0])\n",
    "    xcord = np.arange(0,warped.shape[1])\n",
    "    \n",
    "    left_inds = np.array(left[0]*(ycord**2) + left[1]*ycord + left[2],np.int16)\n",
    "    right_inds = np.array(right[0]*(ycord**2) + right[1]*ycord + right[2],np.int16)\n",
    "    \n",
    "    lane_mask[ ycord, left_inds] = 255\n",
    "    lane_mask1[ ycord, right_inds] = 255\n",
    "    \n",
    "    output = np.array(cv2.merge((lane_mask,warped*255,lane_mask1)),np.uint8)\n",
    "    \n",
    "    # output = np.array(cv2.merge((lane_mask,lane_mask,lane_mask)),np.uint8)\n",
    "    \n",
    "    return(output)\n",
    "\n",
    "def draw_lane(warped, lane_fit):\n",
    "\n",
    "    # Create an image to draw the lines on\n",
    "    warp_zero = np.zeros_like(warped).astype(np.uint8)\n",
    "    color_warp = np.dstack((warp_zero, warp_zero, warp_zero))\n",
    "\n",
    "    # compute x and y points for left and right lane\n",
    "    left = lane_fit[0]\n",
    "    right = lane_fit[1]\n",
    "    ploty = np.arange(0,warped.shape[0])\n",
    "    leftx = np.array(left[0]*(ploty**2) + left[1]*ploty + left[2],np.int16)\n",
    "    rightx = np.array(right[0]*(ploty**2) + right[1]*ploty + right[2],np.int16)\n",
    "    \n",
    "    \n",
    "    # Recast the x and y points into usable format for cv2.fillPoly()\n",
    "    pts_left = np.array([np.transpose(np.vstack([rightx, ploty]))])   # left lane\n",
    "    pts_right = np.array([np.flipud(np.transpose(np.vstack([leftx, ploty])))])  # right lane\n",
    "    pts = np.hstack((pts_left, pts_right))\n",
    "\n",
    "    # Draw the lane onto the warped blank image\n",
    "    cv2.fillPoly(color_warp, np.int_([pts]), (0,255, 0))\n",
    "\n",
    "    return(color_warp)\n",
    "\n",
    "\n",
    "def mark_lane(warped):\n",
    "    \n",
    "    # to identify first image\n",
    "    # defined later\n",
    "    global lane_fit;\n",
    "    \n",
    "    \n",
    "    # compute lane coeffs for first image\n",
    "    if 'lane_fit' not in globals():\n",
    "        lane_fit = get_lane_fit(warped)  # return coeffs from centriods\n",
    "        \n",
    "    # adjust lane coeffs \n",
    "    lane_fit = adjust_lane_fit(warped,lane_fit)\n",
    "    \n",
    "    # draw lane marking\n",
    "    lane_img = draw_lane(warped,lane_fit)  # binary_img in & color_img out\n",
    "    \n",
    "    return(lane_img)\n",
    "    \n"
   ]
  },
  {
   "cell_type": "code",
   "execution_count": null,
   "metadata": {
    "collapsed": true
   },
   "outputs": [],
   "source": []
  },
  {
   "cell_type": "markdown",
   "metadata": {},
   "source": [
    "## RUN PIPELINE ON VIDEO"
   ]
  },
  {
   "cell_type": "code",
   "execution_count": 12,
   "metadata": {
    "collapsed": true
   },
   "outputs": [],
   "source": [
    "\n",
    "# Import everything needed to edit/save/watch video clips\n",
    "from moviepy.editor import VideoFileClip\n",
    "from IPython.display import HTML\n"
   ]
  },
  {
   "cell_type": "code",
   "execution_count": 13,
   "metadata": {
    "collapsed": true
   },
   "outputs": [],
   "source": [
    "\n",
    "def process_image(img):\n",
    "    # NOTE: The output you return should be a color image (3 channel) for processing video below\n",
    "    \n",
    "    global cnt, M, Minv\n",
    "    cnt += 1 \n",
    "    \n",
    "    # Pipeline goes here\n",
    "    \n",
    "    # Undistort image\n",
    "    undist_img = undistort(img)             # color_img in & out\n",
    "    \n",
    "    # Generate binary image from color and gradient\n",
    "    binary_img = binary_image(undist_img)   # color_img in & binary_img out\n",
    "    \n",
    "    # Apply Mask\n",
    "    masked_img = apply_mask(binary_img)      # binary_img in & binary_img out\n",
    "    \n",
    "    # generate transform matrix\n",
    "    # M, Minv = gen_transform_matrix()          \n",
    "    \n",
    "    # Transform masked image \n",
    "    warp_img = warp(masked_img,M)          # binary_img in & binary_img out \n",
    "    \n",
    "    # Mark Lane with green color\n",
    "    lane_img = mark_lane(warp_img)          # binary_img in & color_img out\n",
    "    \n",
    "    # Unwarp lane image\n",
    "    unwarp_lane_img = warp(lane_img,Minv)   # color_img in & color_img out\n",
    "    \n",
    "    \n",
    "    # Merge Lane image on to original image\n",
    "    output = cv2.addWeighted(img, 1, unwarp_lane_img, 0.5, 0.0)   # color_img in & color_img out\n",
    "    \n",
    "    # save image for debug\n",
    "    # output_debug = np.append(masked_img,warp_img,1)\n",
    "    # mpimg.imsave('./pipeline_outputs/3_prespectivetransform/'+str(cnt)+'.jpg', warp_img , cmap='gray')\n",
    "    \n",
    "    # you should return the final output (image with lines are drawn on lanes)\n",
    "    # output = np.append(img,lane_img,1)\n",
    "    \n",
    "    mpimg.imsave('./pipeline_outputs/3_prespectivetransform/'+str(cnt)+'.jpg', output)\n",
    "    return(output)\n"
   ]
  },
  {
   "cell_type": "code",
   "execution_count": 14,
   "metadata": {
    "collapsed": false
   },
   "outputs": [
    {
     "name": "stdout",
     "output_type": "stream",
     "text": [
      "./test_images/test1.jpg\n",
      "./test_images/test2.jpg\n",
      "./test_images/test3.jpg\n",
      "./test_images/test4.jpg\n",
      "./test_images/test5.jpg\n",
      "./test_images/test6.jpg\n"
     ]
    }
   ],
   "source": [
    "# Place holder for live processing\n",
    "\n",
    "cnt = 0  # global counter\n",
    "# images = glob.glob('./video2Image/projectVideoImage_*.jpg')\n",
    "# images = glob.glob('./video2ImageSample/projectVideoImage_*.jpg')\n",
    "images = glob.glob('./test_images/test*.jpg')\n",
    "\n",
    "\n",
    "for image in sorted(images):\n",
    "    print(image)\n",
    "    img = mpimg.imread(image)\n",
    "    out_img = process_image(img)\n",
    "    "
   ]
  },
  {
   "cell_type": "code",
   "execution_count": null,
   "metadata": {
    "collapsed": true
   },
   "outputs": [],
   "source": []
  },
  {
   "cell_type": "code",
   "execution_count": 15,
   "metadata": {
    "collapsed": false
   },
   "outputs": [
    {
     "name": "stdout",
     "output_type": "stream",
     "text": [
      "[MoviePy] >>>> Building video output.mp4\n",
      "[MoviePy] Writing video output.mp4\n"
     ]
    },
    {
     "name": "stderr",
     "output_type": "stream",
     "text": [
      "100%|█████████▉| 1260/1261 [13:37<00:00,  1.66it/s]\n"
     ]
    },
    {
     "name": "stdout",
     "output_type": "stream",
     "text": [
      "[MoviePy] Done.\n",
      "[MoviePy] >>>> Video ready: output.mp4 \n",
      "\n",
      "CPU times: user 4min 49s, sys: 3.38 s, total: 4min 53s\n",
      "Wall time: 13min 40s\n"
     ]
    }
   ],
   "source": [
    "%load_ext autoreload\n",
    "%autoreload 2\n",
    "cnt = 0  # counter\n",
    "output = 'output.mp4'\n",
    "clip1 = VideoFileClip(\"project_video.mp4\")\n",
    "white_clip = clip1.fl_image(process_image) #NOTE: this function expects color images!!\n",
    "%time white_clip.write_videofile(output, audio=False)"
   ]
  },
  {
   "cell_type": "code",
   "execution_count": 16,
   "metadata": {
    "collapsed": false
   },
   "outputs": [
    {
     "data": {
      "text/html": [
       "\n",
       "<video width=\"960\" height=\"540\" controls>\n",
       "  <source src=\"output.mp4\">\n",
       "</video>\n"
      ],
      "text/plain": [
       "<IPython.core.display.HTML object>"
      ]
     },
     "execution_count": 16,
     "metadata": {},
     "output_type": "execute_result"
    }
   ],
   "source": [
    "HTML(\"\"\"\n",
    "<video width=\"960\" height=\"540\" controls>\n",
    "  <source src=\"{0}\">\n",
    "</video>\n",
    "\"\"\".format(output))"
   ]
  },
  {
   "cell_type": "code",
   "execution_count": null,
   "metadata": {
    "collapsed": true
   },
   "outputs": [],
   "source": []
  },
  {
   "cell_type": "code",
   "execution_count": null,
   "metadata": {
    "collapsed": true
   },
   "outputs": [],
   "source": []
  },
  {
   "cell_type": "code",
   "execution_count": null,
   "metadata": {
    "collapsed": true
   },
   "outputs": [],
   "source": []
  }
 ],
 "metadata": {
  "anaconda-cloud": {},
  "kernelspec": {
   "display_name": "Python [conda root]",
   "language": "python",
   "name": "conda-root-py"
  },
  "language_info": {
   "codemirror_mode": {
    "name": "ipython",
    "version": 3
   },
   "file_extension": ".py",
   "mimetype": "text/x-python",
   "name": "python",
   "nbconvert_exporter": "python",
   "pygments_lexer": "ipython3",
   "version": "3.5.2"
  }
 },
 "nbformat": 4,
 "nbformat_minor": 1
}
